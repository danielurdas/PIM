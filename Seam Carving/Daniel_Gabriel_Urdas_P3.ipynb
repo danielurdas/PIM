{
 "metadata": {
  "name": "",
  "signature": "sha256:8328c519396776d51ed4bd6791d49614cde61a7ca1bb83b31516e044ac3c44a3"
 },
 "nbformat": 3,
 "nbformat_minor": 0,
 "worksheets": [
  {
   "cells": [
    {
     "cell_type": "heading",
     "level": 1,
     "metadata": {},
     "source": [
      "Practica 3 PIM - Seam Carving - Daniel Gabriel Urdas"
     ]
    },
    {
     "cell_type": "code",
     "collapsed": false,
     "input": [
      "#IMPORTS\n",
      "import matplotlib.pyplot as plt \n",
      "from PIL import Image, ImageDraw \n",
      "import numpy as np \n",
      "import math \n",
      "import matplotlib.animation as animation"
     ],
     "language": "python",
     "metadata": {},
     "outputs": [],
     "prompt_number": 1
    },
    {
     "cell_type": "heading",
     "level": 6,
     "metadata": {},
     "source": [
      "Funci\u00f3n que dada una imagen de energias, calcula y devulve la matriz de energ\u00eda minima acumulada"
     ]
    },
    {
     "cell_type": "code",
     "collapsed": false,
     "input": [
      "def matriz(new_img):\n",
      "    matr = np.zeros(np.shape(new_img)).astype('double')\n",
      "    # Copiamos la primera fila de la imagen de energ\u00edas\n",
      "    matr[0,:] = new_img[0,:]\n",
      "    \n",
      "    x = np.shape(new_img)[0]\n",
      "    y = np.shape(new_img)[1]\n",
      "    # Recorremos todos los elementos de la matiz de energ\u00edas fila por fila, empezando con la segunda fila\n",
      "    for i in range(1,x):\n",
      "        for j in range(y):\n",
      "            # Nos encontramos en la primera columna. As\u00ed mismo se mirar\u00e1n solo dos vecinos\n",
      "            if (j == 0):\n",
      "                matr[i,j] = new_img[i,j] + min(matr[i-1,j], matr[i-1,j+1])\n",
      "            # Nos encontramos en la \u00faltima columna. As\u00ed mismo se mirar\u00e1n solo dos vecinos\n",
      "            elif (j == y - 1):\n",
      "                matr[i,j] = new_img[i,j] + min(matr[i-1,j], matr[i-1,j-1])\n",
      "            # Nos encontramos en una columna que no es ni la primera ni la ultima. As\u00ed mismo se mirar\u00e1n los tres vecinos\n",
      "            else:\n",
      "                matr[i,j] = new_img[i,j] + min(min(matr[i-1,j], matr[i-1,j-1]), matr[i-1, j+1])\n",
      "    return matr"
     ],
     "language": "python",
     "metadata": {},
     "outputs": [],
     "prompt_number": 2
    },
    {
     "cell_type": "heading",
     "level": 6,
     "metadata": {},
     "source": [
      "Utilizando e backtracking, calculamos los pixeles(el seam) que se han de eliminar de la imagen.\n",
      "Esta funci\u00f3n puede recibir tambi\u00e9n una m\u00e1scara para poder seleccionar dentro de la imagen una zona que se quiere eliminar."
     ]
    },
    {
     "cell_type": "code",
     "collapsed": false,
     "input": [
      "def getPath(img, mask = None):\n",
      "    # Calculamos el gradiente de la imagen\n",
      "    gra = np.gradient(img)\n",
      "    gra_np = np.array(gra)\n",
      "    # Selecionamos los gradientes del eje x e y\n",
      "    a_gra = gra_np[0,:,:]\n",
      "    b_gra = gra_np[1,:,:]\n",
      "    # Sumano el valor absoluto de los dos gradietes (en el eje x e y)\n",
      "    new_img = np.abs(a_gra) + np.abs(b_gra)\n",
      "    # Normalizamos la imagen resultante\n",
      "    new_img = new_img / np.max(new_img) * 255\n",
      "    # Pasamos la imagen a double\n",
      "    new_img = np.array(new_img).astype('double')\n",
      "    \n",
      "    # Aplicamos la m\u00e1scara si ha sido proporcionada\n",
      "    if mask != None:\n",
      "        # A todos los pixeles de la imagen que en las mismas posiciones de la m\u00e1scar\u00e1 tienen el valor -100, se les asignar\u00e1 el valor -100\n",
      "        new_img[mask == -100] = -100.0\n",
      "        \n",
      "    x = np.shape(new_img)[0]\n",
      "    y = np.shape(new_img)[1]\n",
      "    # Calculamos la matriz e energ\u00eda minimas\n",
      "    matr = matriz(new_img)\n",
      "    # Miramos la posici\u00f3n del pixel con el menor valor (de la \u00faltima fila)\n",
      "    a = np.unravel_index((matr[x-1,:]).argmin(), (matr[x-1,:]).shape)[0]\n",
      "\n",
      "    # Lista para guardar las posiciones del path (seam - los pixeles a eliminar)\n",
      "    path = []\n",
      "    path.append((x-1,a))\n",
      "\n",
      "    # Recorremos la matriz de energ\u00edas minimas de abajo hacia arriba, empezando con la penultima linea\n",
      "    for i in range(x-2,0,-1):\n",
      "        # Miramos el vecino de arriba - izquierda.\n",
      "        # Si no existe, le ponemos un valor muy alto\n",
      "        if (a == 0):\n",
      "            aa = 99999\n",
      "        # Si existe, cogemos el valor\n",
      "        else:\n",
      "            aa = matr[i, a-1]\n",
      "        # Miramos el vecino de arriba - derecha\n",
      "        # Si no existe, le ponemos un valor muy alto\n",
      "        if (a == np.shape(matr)[1]-1):\n",
      "            cc = 99999\n",
      "        # Si existe, cogemos el valor\n",
      "        else:\n",
      "            cc = matr[i, a+1]\n",
      "        # Cogemos el valor del vecino arriba - centro\n",
      "        bb = matr[i, a]\n",
      "    \n",
      "        # Guardamos la posici\u00f3n del pixel arriba - izquierda\n",
      "        if (aa <= bb and aa <= cc):\n",
      "            path.append((i,a-1))\n",
      "            a -=1\n",
      "        # Guardamos la posici\u00f3n del pixel arriba - centro\n",
      "        elif (bb <= aa and bb <= cc):    \n",
      "            path.append((i,a))\n",
      "        # Guardamos la posici\u00f3n del pixel arriba - derecha\n",
      "        else:\n",
      "            path.append((i, a+1))\n",
      "            a +=1 \n",
      "            \n",
      "    return path"
     ],
     "language": "python",
     "metadata": {},
     "outputs": [],
     "prompt_number": 3
    },
    {
     "cell_type": "heading",
     "level": 6,
     "metadata": {},
     "source": [
      "Funciones que dada una imagen (en escala de grises o RGB) y un path (seam de los pixeles que se han de eliminar), dibuja estos pixeles de color blanco en el caso de la imagen en escala de grises y de color rojo en el caso de la imagen RGB."
     ]
    },
    {
     "cell_type": "code",
     "collapsed": false,
     "input": [
      "def markPath(mat, path):\n",
      "    ret = np.zeros(mat.shape)\n",
      "    # Copiamos la matriz\n",
      "    ret[:,:] = mat[:,:]\n",
      "    # Recorremos el path para marcar los pixeles dentro de la imagen\n",
      "    for i in path:\n",
      "        ret[i[0],i[1]] = 255\n",
      "    return ret.astype('uint8')\n",
      "\n",
      "def markPathRGB(mat, path):\n",
      "    ret = np.zeros(mat.shape)\n",
      "    # Copiamos la matriz\n",
      "    ret[:,:,:] = mat[:,:,:]\n",
      "    r,g,b = 255,0,0\n",
      "    # Recorremos el path para marcar los pixeles dentro de la imagen\n",
      "    for i in path:\n",
      "        ret[i[0],i[1],0] = r\n",
      "        ret[i[0],i[1],1] = g\n",
      "        ret[i[0],i[1],2] = b\n",
      "    return ret.astype('uint8')"
     ],
     "language": "python",
     "metadata": {},
     "outputs": [],
     "prompt_number": 4
    },
    {
     "cell_type": "heading",
     "level": 6,
     "metadata": {},
     "source": [
      "Funciones que dada una imagen (en escala de grises o RGB) y un path (seam de los pixeles que se han de eliminar), eliminan estos pixeles de la imagen"
     ]
    },
    {
     "cell_type": "code",
     "collapsed": false,
     "input": [
      "def deletePath(img, path):\n",
      "    x,y = np.shape(img)\n",
      "    # Recorremos el path para eliminar los pixeles de la imagen\n",
      "    for i in path:\n",
      "        # Borramos el pixel y transladamos la fila hacia la izquierda una posici\u00f3n \n",
      "        img[i[0], i[1]:y-2] = img[i[0], i[1]+1: y-1]\n",
      "    # Eliminamos la ultima columna de la imagen\n",
      "    img = np.delete(img, y-1,1)\n",
      "    return img\n",
      "\n",
      "def deletePathRGB(img, path):\n",
      "    x,y,z = np.shape(img)\n",
      "    # Recorremos el path para eliminar los pixeles de la imagen\n",
      "    for i in path:\n",
      "        # Borramos el pixel y transladamos la fila hacia la izquierda una posici\u00f3n por cada canal de la imagen\n",
      "        img[i[0], i[1]:y-2, 0] = img[i[0], i[1]+1: y-1, 0]\n",
      "        img[i[0], i[1]:y-2, 1] = img[i[0], i[1]+1: y-1, 1]\n",
      "        img[i[0], i[1]:y-2, 2] = img[i[0], i[1]+1: y-1, 2]\n",
      "    # Eliminamos la ultima columna de la imagen\n",
      "    img = np.delete(img, y-1,1)\n",
      "    return img\n",
      "    "
     ],
     "language": "python",
     "metadata": {},
     "outputs": [],
     "prompt_number": 5
    },
    {
     "cell_type": "heading",
     "level": 6,
     "metadata": {},
     "source": [
      "Funciones que dada una imagen, se muestra por pantalla para que el usuario pueda selecionar un area dentro de esta imagen utlizando varios puntos. Desp\u00faes de este procedimiento, se crear\u00e1 una m\u00e1scara con las dimensiones de la imagen original, teniendo en la zona selecionada valores de -100 y en la zona de fuera, valores de 0"
     ]
    },
    {
     "cell_type": "code",
     "collapsed": false,
     "input": [
      "class get_mouse_click():\n",
      "    \"\"\"Mouse interaction interface for radial distortion removal.\n",
      "\n",
      "    \"\"\"\n",
      "    def __init__(self, img):\n",
      "      height, width = img.shape[:2]\n",
      "      self.figure = plt.imshow(img, extent=(0, width, height, 0))\n",
      "      plt.gray()\n",
      "      plt.title('select the object to remove')\n",
      "      plt.xlabel('Select sets of  points with left mouse button,\\n'\n",
      "                 'click right button to close the polygon.')\n",
      "      plt.connect('button_press_event', self.button_press)\n",
      "      plt.connect('motion_notify_event', self.mouse_move)\n",
      "\n",
      "      self.img = np.atleast_3d(img)\n",
      "      self.points = []\n",
      "      self.centre = np.array([(width - 1)/2., (height - 1)/2.])\n",
      "\n",
      "      self.height = height\n",
      "      self.width = width\n",
      "\n",
      "      self.make_cursorline()\n",
      "      self.figure.axes.set_autoscale_on(False)\n",
      "\n",
      "      plt.show()\n",
      "      plt.close()\n",
      "\n",
      "    def make_cursorline(self):\n",
      "        self.cursorline, = plt.plot([0],[0],'r:+',\n",
      "                                    linewidth=2,markersize=15,markeredgecolor='b')\n",
      "\n",
      "    def button_press(self,event):\n",
      "        \"\"\"Register mouse clicks.\n",
      "\n",
      "        \"\"\"\n",
      "        if (event.button == 1 and event.xdata and event.ydata):\n",
      "            self.points.append((event.xdata,event.ydata))\n",
      "            print \"Coordinate entered: (%f,%f)\" % (event.xdata, event.ydata)\n",
      "\n",
      "            #if len(self.points) % 2 == 0:\n",
      "            plt.gca().lines.append(self.cursorline)\n",
      "            self.make_cursorline()\n",
      "\n",
      "        if (event.button != 1):\n",
      "            #print \"pepito: \" ,self.points\n",
      "            self.points.append((self.points[0][0],self.points[0][1]))\n",
      "            plt.close()\n",
      "            return self.points\n",
      "            #qui\n",
      "            #print \"Removing distortion...\"\n",
      "            #plt.gca().lines = []\n",
      "            #plt.draw()\n",
      "            #self.remove_distortion()\n",
      "            #self.points = []\n",
      "\n",
      "    def mouse_move(self,event):\n",
      "        \"\"\"Handle cursor drawing.\n",
      "\n",
      "        \"\"\"\n",
      "        #pt_sets, pts_last_set = divmod(len(self.points),5)\n",
      "        #print pts_last_set\n",
      "        pts_last_set=len(self.points)\n",
      "        #print pts_last_set2\n",
      "        pts = np.zeros((pts_last_set+1,2))\n",
      "        if pts_last_set > 0:\n",
      "            # Line follows up to 3 clicked points:\n",
      "            pts[:pts_last_set] = self.points[-pts_last_set:]\n",
      "            # The last point of the line follows the mouse cursor\n",
      "        pts[pts_last_set:] = [event.xdata,event.ydata]\n",
      "        #print pts\n",
      "        self.cursorline.set_data(pts[:,0], pts[:,1])\n",
      "        plt.draw()\n",
      "\n",
      "\n",
      "def compute_mask(width,height,polygon):\n",
      "    \n",
      "    img = Image.new('L', (height, width), 0)\n",
      "    ImageDraw.Draw(img).polygon(polygon, outline=1, fill=1)\n",
      "    mask = np.array(img)\n",
      "    mask100 = 100*np.ones([mask.shape[0],mask.shape[1]])\n",
      "    mask=mask*101\n",
      "    mask = 1. - mask; # switch 0s and 1s\n",
      "    return mask"
     ],
     "language": "python",
     "metadata": {},
     "outputs": [],
     "prompt_number": 6
    },
    {
     "cell_type": "heading",
     "level": 2,
     "metadata": {},
     "source": [
      "Pruebas y resultados"
     ]
    },
    {
     "cell_type": "heading",
     "level": 3,
     "metadata": {},
     "source": [
      "Primera parte - Eliminar pixeles de las zonas con menos energ\u00eda"
     ]
    },
    {
     "cell_type": "code",
     "collapsed": false,
     "input": [
      "# Abrimos la imagen\n",
      "img_color = Image.open(\"countryside.jpg\")\n",
      "img_color = np.array(img_color).astype('uint8')\n",
      "img = Image.open(\"countryside.jpg\").convert('L')\n",
      "img = np.array(img).astype('double')\n",
      "\n",
      "# Creamos una lista donde se guardar\u00e1n todos los plots que se mostrar\u00e1n en la animaci\u00f3n\n",
      "ims = []\n",
      "fig = plt.figure(1)\n",
      "# Numero de iteraciones(numero de columnas a eliminar)\n",
      "iteraciones = 100\n",
      "porcentaje = iteraciones / 10\n",
      "# Iterramos para borrar columnas\n",
      "for i in range(1, iteraciones+1):\n",
      "    # Calculamos el path a eliminar de las imagen\n",
      "    path = getPath(img)\n",
      "    # Mostramos informaci\u00f3n sobre el estado de las iteraciones\n",
      "    if i == porcentaje:\n",
      "        print \"Completado: \" + str(i) + \"%\"\n",
      "        porcentaje += iteraciones / 10\n",
      "    # Marcamos el path en la iamgen RGB\n",
      "    img_path = markPathRGB(img_color, path)\n",
      "    # Creamos el plot de la imagen\n",
      "    im0 = plt.imshow(img_path)\n",
      "    # A\u00f1adimos el plot a la lista de animaciones\n",
      "    ims.append([im0])\n",
      "    # Borramos el path de la imagen en escala de grises \n",
      "    img = deletePath(img, path)\n",
      "    # Borramos el path de la imagen en RGB\n",
      "    img_color = deletePathRGB(img_color, path)\n",
      "    # Creamos el plot de la imagen en RGB despu\u00e9s de eliminar el path\n",
      "    im = plt.imshow(img_color)\n",
      "    # A\u00f1adimos el plot a la lista de imagenes \n",
      "    ims.append([im])\n",
      "    \n",
      "# Mostramos una animaci\u00f3n por tal se visualizar los resultados\n",
      "ani = animation.ArtistAnimation(fig, ims, interval=100, blit=True, repeat_delay=10000)\n",
      "plt.show()"
     ],
     "language": "python",
     "metadata": {},
     "outputs": [
      {
       "output_type": "stream",
       "stream": "stdout",
       "text": [
        "Completado: 10%\n",
        "Completado: 20%"
       ]
      },
      {
       "output_type": "stream",
       "stream": "stdout",
       "text": [
        "\n",
        "Completado: 30%"
       ]
      },
      {
       "output_type": "stream",
       "stream": "stdout",
       "text": [
        "\n",
        "Completado: 40%"
       ]
      },
      {
       "output_type": "stream",
       "stream": "stdout",
       "text": [
        "\n",
        "Completado: 50%"
       ]
      },
      {
       "output_type": "stream",
       "stream": "stdout",
       "text": [
        "\n",
        "Completado: 60%"
       ]
      },
      {
       "output_type": "stream",
       "stream": "stdout",
       "text": [
        "\n",
        "Completado: 70%"
       ]
      },
      {
       "output_type": "stream",
       "stream": "stdout",
       "text": [
        "\n",
        "Completado: 80%"
       ]
      },
      {
       "output_type": "stream",
       "stream": "stdout",
       "text": [
        "\n",
        "Completado: 90%"
       ]
      },
      {
       "output_type": "stream",
       "stream": "stdout",
       "text": [
        "\n",
        "Completado: 100%"
       ]
      },
      {
       "output_type": "stream",
       "stream": "stdout",
       "text": [
        "\n"
       ]
      }
     ],
     "prompt_number": 7
    },
    {
     "cell_type": "heading",
     "level": 3,
     "metadata": {},
     "source": [
      "Segunda parte - Eliminar pixeles de la zona selecionada por el usuario"
     ]
    },
    {
     "cell_type": "code",
     "collapsed": false,
     "input": [
      "# Abrimos la imagen\n",
      "img_color = Image.open(\"agbar.png\")\n",
      "img_color = np.array(img_color).astype('uint8')\n",
      "img = Image.open(\"agbar.png\").convert('L')\n",
      "img = np.array(img).astype('double')\n",
      "\n",
      "# Obtenemos la area que queremos eliminar de la imagen\n",
      "rdi = get_mouse_click(img_color)\n",
      "polygon = rdi.points\n",
      "\n",
      "# Crear la m\u00e1scara a partir del poligono\n",
      "x,y,z = np.shape(img_color)\n",
      "mask=compute_mask(x,y,polygon)\n",
      "\n",
      "# Creamos una lista donde se guardar\u00e1n todos los plots que se mostrar\u00e1n en la animaci\u00f3n\n",
      "ims = []\n",
      "fig = plt.figure(2)\n",
      "# Numero de iteraciones(numero de columnas a eliminar)\n",
      "iteraciones = 100\n",
      "porcentaje = iteraciones / 10\n",
      "# Iterramos para borrar columnas\n",
      "for i in range(1, iteraciones+1):\n",
      "    # Calculamos el path a eliminar de las imagen\n",
      "    path = getPath(img, mask)\n",
      "    # Mostramos informaci\u00f3n sobre el estado de las iteraciones\n",
      "    if i == porcentaje:\n",
      "        print \"Completado: \" + str(i) + \"%\"\n",
      "        porcentaje += iteraciones / 10\n",
      "    # Marcamos el path en la iamgen RGB\n",
      "    img_path = markPathRGB(img_color, path)\n",
      "    # Creamos el plot de la imagen\n",
      "    im0 = plt.imshow(img_path)\n",
      "    # A\u00f1adimos el plot a la lista de animaciones\n",
      "    ims.append([im0])\n",
      "    # Borramos el path de la imagen en escala de grises \n",
      "    img = deletePath(img, path)\n",
      "    # Borramos el path de la imagen en RGB\n",
      "    img_color = deletePathRGB(img_color, path)\n",
      "    # Borramos el path de la m\u00e1scara\n",
      "    mask = deletePath(mask, path)\n",
      "    # Creamos el plot de la imagen en RGB despu\u00e9s de eliminar el path\n",
      "    im = plt.imshow(img_color)\n",
      "    # A\u00f1adimos el plot a la lista de imagenes \n",
      "    ims.append([im])\n",
      "    \n",
      "# Mostramos una animaci\u00f3n por tal se visualizar los resultados\n",
      "ani = animation.ArtistAnimation(fig, ims, interval=100, blit=True, repeat_delay=10000)\n",
      "plt.show()"
     ],
     "language": "python",
     "metadata": {},
     "outputs": [
      {
       "output_type": "stream",
       "stream": "stdout",
       "text": [
        "Coordinate entered: (246.002077,160.643821)\n",
        "Coordinate entered: (226.272066,208.411215)"
       ]
      },
      {
       "output_type": "stream",
       "stream": "stdout",
       "text": [
        "\n",
        "Coordinate entered: (215.887850,277.985462)"
       ]
      },
      {
       "output_type": "stream",
       "stream": "stdout",
       "text": [
        "\n",
        "Coordinate entered: (215.887850,353.790239)"
       ]
      },
      {
       "output_type": "stream",
       "stream": "stdout",
       "text": [
        "\n",
        "Coordinate entered: (216.926272,444.132918)"
       ]
      },
      {
       "output_type": "stream",
       "stream": "stdout",
       "text": [
        "\n",
        "Coordinate entered: (312.461059,450.363448)"
       ]
      },
      {
       "output_type": "stream",
       "stream": "stdout",
       "text": [
        "\n",
        "Coordinate entered: (309.345794,393.250260)"
       ]
      },
      {
       "output_type": "stream",
       "stream": "stdout",
       "text": [
        "\n",
        "Coordinate entered: (309.345794,303.946002)"
       ]
      },
      {
       "output_type": "stream",
       "stream": "stdout",
       "text": [
        "\n",
        "Coordinate entered: (301.038422,227.102804)"
       ]
      },
      {
       "output_type": "stream",
       "stream": "stdout",
       "text": [
        "\n",
        "Coordinate entered: (283.385254,166.874351)"
       ]
      },
      {
       "output_type": "stream",
       "stream": "stdout",
       "text": [
        "\n",
        "Coordinate entered: (242.886812,160.643821)"
       ]
      },
      {
       "output_type": "stream",
       "stream": "stdout",
       "text": [
        "\n",
        "Completado: 10%"
       ]
      },
      {
       "output_type": "stream",
       "stream": "stdout",
       "text": [
        "\n",
        "Completado: 20%"
       ]
      },
      {
       "output_type": "stream",
       "stream": "stdout",
       "text": [
        "\n",
        "Completado: 30%"
       ]
      },
      {
       "output_type": "stream",
       "stream": "stdout",
       "text": [
        "\n",
        "Completado: 40%"
       ]
      },
      {
       "output_type": "stream",
       "stream": "stdout",
       "text": [
        "\n",
        "Completado: 50%"
       ]
      },
      {
       "output_type": "stream",
       "stream": "stdout",
       "text": [
        "\n",
        "Completado: 60%"
       ]
      },
      {
       "output_type": "stream",
       "stream": "stdout",
       "text": [
        "\n",
        "Completado: 70%"
       ]
      },
      {
       "output_type": "stream",
       "stream": "stdout",
       "text": [
        "\n",
        "Completado: 80%"
       ]
      },
      {
       "output_type": "stream",
       "stream": "stdout",
       "text": [
        "\n",
        "Completado: 90%"
       ]
      },
      {
       "output_type": "stream",
       "stream": "stdout",
       "text": [
        "\n",
        "Completado: 100%"
       ]
      },
      {
       "output_type": "stream",
       "stream": "stdout",
       "text": [
        "\n"
       ]
      },
      {
       "output_type": "stream",
       "stream": "stderr",
       "text": [
        "-c:16: FutureWarning: comparison to `None` will result in an elementwise object comparison in the future.\n"
       ]
      }
     ],
     "prompt_number": 8
    },
    {
     "cell_type": "heading",
     "level": 3,
     "metadata": {},
     "source": [
      "Tercera parte - A\u00f1adir pixeles a las zonas con menos energ\u00eda"
     ]
    },
    {
     "cell_type": "heading",
     "level": 6,
     "metadata": {},
     "source": [
      "Utilizando e backtracking, calculamos los pixeles(el seam) que se han de a\u00f1adir de la imagen."
     ]
    },
    {
     "cell_type": "code",
     "collapsed": false,
     "input": [
      "def getPathAdd(img, antPath):\n",
      "    # Calculamos el gradiente de la imagen\n",
      "    gra = np.gradient(img)\n",
      "    gra_np = np.array(gra)\n",
      "    # Selecionamos los gradientes del eje x e y\n",
      "    a_gra = gra_np[0,:,:]\n",
      "    b_gra = gra_np[1,:,:]\n",
      "    # Sumano el valor absoluto de los dos gradietes (en el eje x e y)\n",
      "    new_img = np.abs(a_gra) + np.abs(b_gra)\n",
      "    # Normalizamos la imagen resultante\n",
      "    new_img = new_img / np.max(new_img) * 255\n",
      "    # Pasamos la imagen a double\n",
      "    new_img = np.array(new_img).astype('double')  \n",
      "    \n",
      "    # Marcamos el antiguo path con valores altos para que el nuevo path no pase por el\n",
      "    for i in antPath:\n",
      "        new_img[i[0],i[1]] = 100\n",
      "        \n",
      "    x = np.shape(new_img)[0]\n",
      "    y = np.shape(new_img)[1]\n",
      "    # Calculamos la matriz e energ\u00eda minimas\n",
      "    matr = matriz(new_img)\n",
      "    # Miramos la posici\u00f3n del pixel con el menor valor (de la \u00faltima fila)\n",
      "    a = np.unravel_index((matr[x-1,:]).argmin(), (matr[x-1,:]).shape)[0]\n",
      "\n",
      "    # Lista para guardar las posiciones del path (seam - los pixeles a eliminar)\n",
      "    path = []\n",
      "    path.append((x-1,a))\n",
      "\n",
      "    # Recorremos la matriz de energ\u00edas minimas de abajo hacia arriba, empezando con la penultima linea\n",
      "    for i in range(x-2,0,-1):\n",
      "        # Miramos el vecino de arriba - izquierda.\n",
      "        # Si no existe, le ponemos un valor muy alto\n",
      "        if (a == 0):\n",
      "            aa = 99999\n",
      "        # Si existe, cogemos el valor\n",
      "        else:\n",
      "            aa = matr[i, a-1]\n",
      "        # Miramos el vecino de arriba - derecha\n",
      "        # Si no existe, le ponemos un valor muy alto\n",
      "        if (a == np.shape(matr)[1]-1):\n",
      "            cc = 99999\n",
      "        # Si existe, cogemos el valor\n",
      "        else:\n",
      "            cc = matr[i, a+1]\n",
      "        # Cogemos el valor del vecino arriba - centro\n",
      "        bb = matr[i, a]\n",
      "    \n",
      "        # Guardamos la posici\u00f3n del pixel arriba - izquierda\n",
      "        if (aa <= bb and aa <= cc):\n",
      "            path.append((i,a-1))\n",
      "            a -=1\n",
      "        # Guardamos la posici\u00f3n del pixel arriba - centro\n",
      "        elif (bb <= aa and bb <= cc):    \n",
      "            path.append((i,a))\n",
      "        # Guardamos la posici\u00f3n del pixel arriba - derecha\n",
      "        else:\n",
      "            path.append((i, a+1))\n",
      "            a +=1 \n",
      "            \n",
      "    return path, new_img"
     ],
     "language": "python",
     "metadata": {},
     "outputs": [],
     "prompt_number": 9
    },
    {
     "cell_type": "heading",
     "level": 6,
     "metadata": {},
     "source": [
      "Funciones que clonan una linea de la imagen y la a\u00f1aden a la derecha"
     ]
    },
    {
     "cell_type": "code",
     "collapsed": false,
     "input": [
      "def pathAdd(mat, path):\n",
      "    # Creamos una imagen con un columna de mas\n",
      "    ret = np.zeros((mat.shape[0], mat.shape[1] + 1))\n",
      "    x,y = np.shape(ret)\n",
      "    # Copiamos en la nueva imagen, la antigua\n",
      "    ret[:,0:y-1] = mat[:,:]\n",
      "    # Clonamos cada pixel del path y lo a\u00f1adimos a la derecha\n",
      "    for i in path:\n",
      "        ret[i[0], i[1] + 2:y-1] = mat[i[0], i[1]+1: y-2]\n",
      "\n",
      "    return ret.astype('uint8')\n",
      "\n",
      "def pathAddRGB(mat, path):\n",
      "    # Creamos una imagen con un columna de mas\n",
      "    ret = np.zeros((mat.shape[0], mat.shape[1] + 1, mat.shape[2]))\n",
      "    x,y,z = np.shape(ret)\n",
      "    # Copiamos en la nueva imagen, la antigua\n",
      "    ret[:,0:y-1,:] = mat[:,:,:]\n",
      "    # Clonamos cada pixel del path y lo a\u00f1adimos a la derecha para cada canal de la imagen\n",
      "    for i in path:\n",
      "        ret[i[0], i[1] + 2:y-1, 0] = mat[i[0], i[1]+1: y-2, 0]\n",
      "        ret[i[0], i[1] + 2:y-1, 1] = mat[i[0], i[1]+1: y-2, 1]\n",
      "        ret[i[0], i[1] + 2:y-1, 2] = mat[i[0], i[1]+1: y-2, 2]\n",
      "\n",
      "    return ret.astype('uint8')"
     ],
     "language": "python",
     "metadata": {},
     "outputs": [],
     "prompt_number": 10
    },
    {
     "cell_type": "code",
     "collapsed": false,
     "input": [
      "# Abrimos la imagen\n",
      "img_color = Image.open(\"countryside.jpg\")\n",
      "img_color = np.array(img_color).astype('uint8')\n",
      "img = Image.open(\"countryside.jpg\").convert('L')\n",
      "img = np.array(img).astype('double')\n",
      "\n",
      "antiguoPath = []\n",
      "# Numero de iteraciones(numero de columnas a eliminar)\n",
      "iteraciones = 100\n",
      "porcentaje = iteraciones / 10\n",
      "# Creamos una lista donde se guardar\u00e1n todos los plots que se mostrar\u00e1n en la animaci\u00f3n\n",
      "ims = []\n",
      "fig = plt.figure(3)\n",
      "# Iterramos para a\u00f1adir columnas\n",
      "for i in range (1, iteraciones+1):\n",
      "    # Mostramos informaci\u00f3n sobre el estado de las iteraciones\n",
      "    if i == porcentaje:\n",
      "        print \"Completado: \" + str(i) + \"%\"\n",
      "        porcentaje += iteraciones / 10\n",
      "    # Buscamos el path que se clonar\u00e1 para crear una nueva columna\n",
      "    path, img = getPathAdd(img, antiguoPath)\n",
      "    # Clonamos el path en la imagen en escala de grises\n",
      "    img = pathAdd(img, path)\n",
      "    # Guardamos el antiguo path\n",
      "    antiguoPath = path\n",
      "    # Clonamos el path en la imagen RGB\n",
      "    img_color = pathAddRGB(img_color, path)\n",
      "    # Creamos el plot de la imagen en RGB despu\u00e9s de eliminar el path\n",
      "    im0 = plt.imshow(img_color)\n",
      "    # A\u00f1adimos el plot a la lista de imagenes\n",
      "    ims.append([im0])\n",
      "\n",
      "# Mostramos una animaci\u00f3n por tal se visualizar los resultados\n",
      "ani = animation.ArtistAnimation(fig, ims, interval=100, blit=True, repeat_delay=10000)\n",
      "plt.show()"
     ],
     "language": "python",
     "metadata": {},
     "outputs": [
      {
       "output_type": "stream",
       "stream": "stdout",
       "text": [
        "Completado: 10%\n",
        "Completado: 20%"
       ]
      },
      {
       "output_type": "stream",
       "stream": "stdout",
       "text": [
        "\n",
        "Completado: 30%"
       ]
      },
      {
       "output_type": "stream",
       "stream": "stdout",
       "text": [
        "\n",
        "Completado: 40%"
       ]
      },
      {
       "output_type": "stream",
       "stream": "stdout",
       "text": [
        "\n",
        "Completado: 50%"
       ]
      },
      {
       "output_type": "stream",
       "stream": "stdout",
       "text": [
        "\n",
        "Completado: 60%"
       ]
      },
      {
       "output_type": "stream",
       "stream": "stdout",
       "text": [
        "\n",
        "Completado: 70%"
       ]
      },
      {
       "output_type": "stream",
       "stream": "stdout",
       "text": [
        "\n",
        "Completado: 80%"
       ]
      },
      {
       "output_type": "stream",
       "stream": "stdout",
       "text": [
        "\n",
        "Completado: 90%"
       ]
      },
      {
       "output_type": "stream",
       "stream": "stdout",
       "text": [
        "\n",
        "Completado: 100%"
       ]
      },
      {
       "output_type": "stream",
       "stream": "stdout",
       "text": [
        "\n"
       ]
      }
     ],
     "prompt_number": 11
    },
    {
     "cell_type": "heading",
     "level": 3,
     "metadata": {},
     "source": [
      "Ejemplo de como funciona el calculo de los gradientes y de la matriz de energ\u00eda minima"
     ]
    },
    {
     "cell_type": "code",
     "collapsed": false,
     "input": [
      "# Abrimos la imagen\n",
      "img = Image.open(\"countryside.jpg\").convert('L')\n",
      "img = np.array(img).astype('double')\n",
      "\n",
      "# Calculamos el gradiente de la imagen\n",
      "gra = np.gradient(img)\n",
      "gra_np = np.array(gra)\n",
      "# Selecionamos los gradientes del eje x e y\n",
      "a_gra = gra_np[0,:,:]\n",
      "b_gra = gra_np[1,:,:]\n",
      "# Sumano el valor absoluto de los dos gradietes (en el eje x e y)\n",
      "new_img = np.abs(a_gra) + np.abs(b_gra)\n",
      "# Normalizamos la imagen resultante\n",
      "new_img = new_img / np.max(new_img) * 255\n",
      "# Pasamos la imagen a double\n",
      "new_img = np.array(new_img).astype('double')\n",
      "\n",
      "# Calculamos la matriz e energ\u00eda minimas\n",
      "matr = matriz(new_img)\n",
      "\n",
      "# Mostramos los resultados\n",
      "fig = plt.figure(4)\n",
      "plt.subplot(1,2,1)\n",
      "plt.imshow(new_img, cmap=\"gray\")\n",
      "plt.title('Gradientes', size=16)\n",
      "plt.subplot(1,2,2)\n",
      "plt.imshow(matr, cmap=\"gray\")\n",
      "plt.title('Matriz de energia minima', size=16)\n",
      "plt.show()"
     ],
     "language": "python",
     "metadata": {},
     "outputs": [],
     "prompt_number": 12
    },
    {
     "cell_type": "code",
     "collapsed": false,
     "input": [],
     "language": "python",
     "metadata": {},
     "outputs": []
    }
   ],
   "metadata": {}
  }
 ]
}